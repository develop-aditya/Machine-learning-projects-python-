{
 "cells": [
  {
   "cell_type": "raw",
   "id": "a44db73a-5127-4c6c-b114-c46a959cc993",
   "metadata": {},
   "source": [
    "# Importing essential library"
   ]
  },
  {
   "cell_type": "code",
   "execution_count": null,
   "id": "63b6ec60-6f2d-403a-94f3-d033939c83dd",
   "metadata": {},
   "outputs": [],
   "source": [
    "import numpy as np \n",
    "import pandas as pd"
   ]
  },
  {
   "cell_type": "raw",
   "id": "02637b0c-4c92-4961-bc97-371225909876",
   "metadata": {},
   "source": [
    "#importing dataset"
   ]
  },
  {
   "cell_type": "code",
   "execution_count": null,
   "id": "9eb8ad1a-59ed-40b2-bfed-4b7ffacbf3cd",
   "metadata": {},
   "outputs": [],
   "source": [
    "df=pd.read_csv(\"dataset.csv\")\n",
    "df.head()"
   ]
  },
  {
   "cell_type": "code",
   "execution_count": null,
   "id": "ab042063-4970-4f9b-9565-8125fc065199",
   "metadata": {},
   "outputs": [],
   "source": [
    "df.shape"
   ]
  },
  {
   "cell_type": "code",
   "execution_count": null,
   "id": "3cf69fbf-2182-4d29-be97-ec9a84a67810",
   "metadata": {},
   "outputs": [],
   "source": [
    "df2=df.drop(\"date\",axis=1)"
   ]
  },
  {
   "cell_type": "code",
   "execution_count": null,
   "id": "a7b43e52-c394-4cc1-90d8-4e25413dee24",
   "metadata": {},
   "outputs": [],
   "source": [
    "df2.head()"
   ]
  },
  {
   "cell_type": "code",
   "execution_count": null,
   "id": "0e31d804-b2aa-470d-b08e-e7b568abff50",
   "metadata": {},
   "outputs": [],
   "source": [
    "df2.shape"
   ]
  },
  {
   "cell_type": "raw",
   "id": "49bd3b5e-83c6-4ebf-b847-fcd8d0486085",
   "metadata": {},
   "source": [
    "#seperate dataset into independent and dependent variables"
   ]
  },
  {
   "cell_type": "code",
   "execution_count": null,
   "id": "af0fb162-b8d2-4941-8ec1-33b9ba20c7af",
   "metadata": {},
   "outputs": [],
   "source": [
    "x=df2.iloc[:,:4].values\n",
    "x"
   ]
  },
  {
   "cell_type": "code",
   "execution_count": null,
   "id": "510b0268-d278-4878-9507-3d7818cb384a",
   "metadata": {},
   "outputs": [],
   "source": [
    "y=df2.iloc[:,4].values\n",
    "y"
   ]
  },
  {
   "cell_type": "raw",
   "id": "a906c324-968a-4fc4-aa82-8f1c6cd25639",
   "metadata": {},
   "source": [
    "#Train test splitting"
   ]
  },
  {
   "cell_type": "code",
   "execution_count": null,
   "id": "257a7d12-d693-44f7-9c63-9e40a419b297",
   "metadata": {},
   "outputs": [],
   "source": [
    "from sklearn.model_selection import train_test_split\n",
    "x_train,x_test,y_train,y_test=train_test_split(x,y,test_size=0.1,random_state=0)"
   ]
  },
  {
   "cell_type": "code",
   "execution_count": null,
   "id": "daae5e17-9557-4d24-9179-19f854e8f27e",
   "metadata": {},
   "outputs": [],
   "source": [
    "x_test.shape"
   ]
  },
  {
   "cell_type": "code",
   "execution_count": null,
   "id": "716a179f-3204-45dc-9b9d-bf26e11b2548",
   "metadata": {},
   "outputs": [],
   "source": [
    "y_test.shape"
   ]
  },
  {
   "cell_type": "raw",
   "id": "5553ed21-af16-4957-a96f-9e17621bffee",
   "metadata": {},
   "source": [
    "#Applying Logistic Regression Algorithm"
   ]
  },
  {
   "cell_type": "code",
   "execution_count": null,
   "id": "c5099d71-724a-4102-94a7-5f1a1363e5f8",
   "metadata": {},
   "outputs": [],
   "source": [
    "from sklearn.linear_model import LogisticRegression\n",
    "lr=LogisticRegression()\n",
    "lr.fit(x_train,y_train)"
   ]
  },
  {
   "cell_type": "raw",
   "id": "a185b345-7f7f-4b23-ac43-dacb2e2cedc3",
   "metadata": {},
   "source": [
    "#Test model"
   ]
  },
  {
   "cell_type": "code",
   "execution_count": null,
   "id": "657f1fbf-3128-4efc-b475-a71365edadc9",
   "metadata": {},
   "outputs": [],
   "source": [
    "y_pred=lr.predict(x_test)\n",
    "y_pred"
   ]
  },
  {
   "cell_type": "code",
   "execution_count": null,
   "id": "0e0d0724-5238-41a1-a666-e39d4ec64212",
   "metadata": {},
   "outputs": [],
   "source": [
    "y_test"
   ]
  },
  {
   "cell_type": "code",
   "execution_count": null,
   "id": "706025d4-19df-460b-bc59-0f9bc31ed7e2",
   "metadata": {},
   "outputs": [],
   "source": [
    "from sklearn.metrics import confusion_matrix\n",
    "cm=confusion_matrix(y_test,y_pred)\n",
    "cm"
   ]
  },
  {
   "cell_type": "code",
   "execution_count": null,
   "id": "1bbee541-6028-4a9a-8bf6-4860d877aed4",
   "metadata": {},
   "outputs": [],
   "source": [
    "y_test.size"
   ]
  },
  {
   "cell_type": "code",
   "execution_count": null,
   "id": "4b903ee0-c506-4343-9d3d-c4df8a09f932",
   "metadata": {},
   "outputs": [],
   "source": [
    "import pickle"
   ]
  },
  {
   "cell_type": "code",
   "execution_count": null,
   "id": "1c444335-cc39-4864-8813-60eede895e87",
   "metadata": {},
   "outputs": [],
   "source": [
    "pickle.dump(lr,open(\"rfp.pkl\",\"wb\"))"
   ]
  },
  {
   "cell_type": "code",
   "execution_count": null,
   "id": "f6b587e9-12c3-4406-ae78-f4e735eef431",
   "metadata": {},
   "outputs": [],
   "source": []
  }
 ],
 "metadata": {
  "kernelspec": {
   "display_name": "Python 3 (ipykernel)",
   "language": "python",
   "name": "python3"
  },
  "language_info": {
   "codemirror_mode": {
    "name": "ipython",
    "version": 3
   },
   "file_extension": ".py",
   "mimetype": "text/x-python",
   "name": "python",
   "nbconvert_exporter": "python",
   "pygments_lexer": "ipython3",
   "version": "3.13.1"
  }
 },
 "nbformat": 4,
 "nbformat_minor": 5
}
